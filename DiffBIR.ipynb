{
 "cells": [
  {
   "cell_type": "markdown",
   "metadata": {},
   "source": [
    "# Setup\n",
    "\n",
    "These first two code cells contain all the instructions required to setup this notebook. \n",
    "\n",
    "1) Packages and required installs\n",
    "\n",
    "2) Model checkpoint downloads (skip this on second run)"
   ]
  },
  {
   "cell_type": "code",
   "execution_count": null,
   "metadata": {},
   "outputs": [],
   "source": [
    "!pip install -r requirements.txt \n",
    "!pip install -U gradio "
   ]
  },
  {
   "cell_type": "code",
   "execution_count": null,
   "metadata": {},
   "outputs": [],
   "source": [
    "!mkdir weights\n",
    "%cd weights\n",
    "!wget https://huggingface.co/lxq007/DiffBIR/resolve/main/general_swinir_v1.ckpt\n",
    "!wget https://huggingface.co/lxq007/DiffBIR/resolve/main/general_full_v1.ckpt\n",
    "!wget https://huggingface.co/lxq007/DiffBIR/resolve/main/face_swinir_v1.ckpt\n",
    "!wget https://huggingface.co/lxq007/DiffBIR/resolve/main/face_full_v1.ckpt\n",
    "%cd .."
   ]
  },
  {
   "cell_type": "markdown",
   "metadata": {},
   "source": [
    "# Run the demo\n",
    "\n",
    "Now that we have finished setup, run the following code cell to start the demo. Use the shared link to access this in a new browser tab.\n"
   ]
  },
  {
   "cell_type": "code",
   "execution_count": null,
   "metadata": {},
   "outputs": [],
   "source": [
    "!python gradio_diffbir.py"
   ]
  }
 ],
 "metadata": {
  "language_info": {
   "name": "python"
  },
  "orig_nbformat": 4
 },
 "nbformat": 4,
 "nbformat_minor": 2
}
